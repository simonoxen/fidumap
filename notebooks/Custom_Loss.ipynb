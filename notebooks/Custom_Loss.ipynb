{
 "cells": [
  {
   "cell_type": "code",
   "execution_count": 2,
   "metadata": {},
   "outputs": [
    {
     "name": "stderr",
     "output_type": "stream",
     "text": [
      "/home/ningfei/miniforge3/envs/torch_test/lib/python3.9/site-packages/tqdm/auto.py:21: TqdmWarning: IProgress not found. Please update jupyter and ipywidgets. See https://ipywidgets.readthedocs.io/en/stable/user_install.html\n",
      "  from .autonotebook import tqdm as notebook_tqdm\n"
     ]
    }
   ],
   "source": [
    "import torch"
   ]
  },
  {
   "cell_type": "code",
   "execution_count": 25,
   "metadata": {},
   "outputs": [
    {
     "name": "stdout",
     "output_type": "stream",
     "text": [
      "tensor([[[0.0000, 0.0000, 0.0000, 0.0000],\n",
      "         [0.0000, 0.0000, 0.0000, 0.0000],\n",
      "         [0.0000, 0.0000, 0.0000, 0.0000],\n",
      "         [0.0000, 0.0000, 0.0000, 0.0000],\n",
      "         [0.0000, 0.0000, 0.0000, 0.0000],\n",
      "         [0.0000, 0.0000, 0.0000, 0.0000]],\n",
      "\n",
      "        [[0.1667, 0.1667, 0.8333, 1.8333],\n",
      "         [0.5000, 0.5000, 0.5000, 1.5000],\n",
      "         [0.6667, 0.3333, 0.3333, 1.3333],\n",
      "         [1.0000, 1.0000, 1.0000, 1.0000],\n",
      "         [1.1667, 0.8333, 0.8333, 0.8333],\n",
      "         [1.5000, 1.1667, 0.5000, 0.5000]]])\n"
     ]
    }
   ],
   "source": [
    "keypoints_far_apart = torch.zeros(1, 4, 2) # n_batch, n_keypoints, 2\n",
    "keypoints_far_apart[0, 0, :] = torch.tensor([0, -1])\n",
    "keypoints_far_apart[0, 1, :] = torch.tensor([0, 1])\n",
    "keypoints_far_apart[0, 2, :] = torch.tensor([0, 5])\n",
    "keypoints_far_apart[0, 3, :] = torch.tensor([0, 11])\n",
    "\n",
    "keypoints_close_together = torch.rand(1, 4, 2) / 2 # n_batch, n_keypoints, 2\n",
    "\n",
    "keypoints_zeros = torch.zeros(1, 4, 2)\n",
    "\n",
    "batch_keypoints1 = torch.cat((keypoints_zeros, keypoints_far_apart), dim=0)\n",
    "batch_keypoints2 = torch.cat((keypoints_far_apart, keypoints_zeros), dim=0)\n",
    "\n",
    "def distance_within_keypoints(keypoints):\n",
    "    n_batch, n_keypoints, _ = keypoints.shape\n",
    "    keypoints = keypoints.view(n_batch, n_keypoints, 1, 2)\n",
    "    keypoints_t = keypoints.transpose(1, 2)\n",
    "    all_dist = torch.sqrt(torch.sum((keypoints - keypoints_t)**2, dim=3))\n",
    "    r,c = torch.tril_indices(4, 4, -1)\n",
    "    return all_dist[:,r,c].sum(dim=1) / (n_keypoints * (n_keypoints - 1))\n",
    "\n",
    "def distance_between_keypoints(keypoints1, keypoints2):\n",
    "    dist = torch.mean(torch.sqrt(torch.sum((keypoints1 - keypoints2)**2, dim=2)), dim=1)\n",
    "    return dist\n",
    "\n",
    "\n",
    "# far_apart_dist = distance_within_keypoints(keypoints_far_apart)\n",
    "# close_together_dist = distance_within_keypoints(keypoints_close_together)\n",
    "# zeros_dist = distance_within_keypoints(keypoints_zeros)\n",
    "# batch_dist = distance_within_keypoints(batch_keypoints)\n",
    "\n",
    "d1=distance_between_keypoints(batch_keypoints1,batch_keypoints2)\n",
    "d2=distance_within_keypoints(batch_keypoints1)\n",
    "# print(d2)\n",
    "print(distance_within_keypoints(batch_keypoints1))\n"
   ]
  },
  {
   "cell_type": "code",
   "execution_count": 21,
   "metadata": {},
   "outputs": [
    {
     "name": "stdout",
     "output_type": "stream",
     "text": [
      "tensor([1, 2, 2, 3, 3, 3]) tensor([0, 0, 1, 0, 1, 2])\n"
     ]
    }
   ],
   "source": [
    "r,c=torch.tril_indices(4, 4, -1)\n",
    "print(r,c)"
   ]
  }
 ],
 "metadata": {
  "kernelspec": {
   "display_name": "torch_test",
   "language": "python",
   "name": "python3"
  },
  "language_info": {
   "codemirror_mode": {
    "name": "ipython",
    "version": 3
   },
   "file_extension": ".py",
   "mimetype": "text/x-python",
   "name": "python",
   "nbconvert_exporter": "python",
   "pygments_lexer": "ipython3",
   "version": "3.9.18"
  }
 },
 "nbformat": 4,
 "nbformat_minor": 2
}
